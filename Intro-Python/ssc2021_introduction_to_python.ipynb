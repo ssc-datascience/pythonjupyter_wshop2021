{
 "cells": [
  {
   "cell_type": "markdown",
   "metadata": {
    "slideshow": {
     "slide_type": "slide"
    }
   },
   "source": [
    "# SSC Data Science and Analytics Workshop 2021¶\n",
    "\n",
    "## The Data Scientist’s Workflow: EDA and Statistical Modeling with Python in Jupyter Notebooks¶\n",
    "\n",
    "### Introduction to Python (David)\n",
    "\n",
    "Welcome! Over the next 40 minutes, I'll introduce some of the fundamentals of the **Python programming language**.\n",
    "\n",
    "Note before we begin: you can follow along with a copy of this Jupyter notebook here: ..."
   ]
  },
  {
   "cell_type": "markdown",
   "metadata": {
    "slideshow": {
     "slide_type": "slide"
    }
   },
   "source": [
    "First, a bit about the Python language:\n",
    "\n",
    "- General purpose, multi-paradigm programming language\n",
    "- Beginner-friendly syntax, a common first programming language\n",
    "- Robust ecosystem of libraries spanning all application domains, including statistics, data science, and machine learning\n",
    "- Supports extensions written in C when efficiency is key"
   ]
  },
  {
   "cell_type": "markdown",
   "metadata": {
    "slideshow": {
     "slide_type": "slide"
    }
   },
   "source": [
    "## Simple Data Types and Operations (aka Python as an extended calculator)"
   ]
  },
  {
   "cell_type": "markdown",
   "metadata": {
    "slideshow": {
     "slide_type": "slide"
    }
   },
   "source": [
    "Python has three numeric data types: `int`, `float`, and `complex`. We'll focus on just `int` and `float` today."
   ]
  },
  {
   "cell_type": "code",
   "execution_count": 1,
   "metadata": {
    "slideshow": {
     "slide_type": "fragment"
    }
   },
   "outputs": [
    {
     "data": {
      "text/plain": "7"
     },
     "execution_count": 1,
     "metadata": {},
     "output_type": "execute_result"
    }
   ],
   "source": [
    "3 + 4"
   ]
  },
  {
   "cell_type": "code",
   "execution_count": 2,
   "metadata": {},
   "outputs": [
    {
     "data": {
      "text/plain": "4.050000000000001"
     },
     "execution_count": 2,
     "metadata": {},
     "output_type": "execute_result"
    }
   ],
   "source": [
    "1.5 * 2.7"
   ]
  },
  {
   "cell_type": "code",
   "execution_count": 3,
   "metadata": {
    "slideshow": {
     "slide_type": "fragment"
    }
   },
   "outputs": [
    {
     "data": {
      "text/plain": "3.3333333333333335"
     },
     "execution_count": 3,
     "metadata": {},
     "output_type": "execute_result"
    }
   ],
   "source": [
    "10 / 3"
   ]
  },
  {
   "cell_type": "code",
   "execution_count": 4,
   "metadata": {
    "slideshow": {
     "slide_type": "fragment"
    }
   },
   "outputs": [
    {
     "data": {
      "text/plain": "3"
     },
     "execution_count": 4,
     "metadata": {},
     "output_type": "execute_result"
    }
   ],
   "source": [
    "10 // 3"
   ]
  },
  {
   "cell_type": "code",
   "execution_count": 5,
   "metadata": {
    "slideshow": {
     "slide_type": "fragment"
    }
   },
   "outputs": [
    {
     "data": {
      "text/plain": "1267650600228229401496703205376"
     },
     "execution_count": 5,
     "metadata": {},
     "output_type": "execute_result"
    }
   ],
   "source": [
    "2 ** 100"
   ]
  },
  {
   "cell_type": "markdown",
   "metadata": {
    "slideshow": {
     "slide_type": "slide"
    }
   },
   "source": [
    "The boolean type `bool` has two values, `True` and `False`."
   ]
  },
  {
   "cell_type": "markdown",
   "metadata": {
    "slideshow": {
     "slide_type": "fragment"
    }
   },
   "source": [
    "Comparison operators return booleans:"
   ]
  },
  {
   "cell_type": "code",
   "execution_count": 6,
   "metadata": {
    "slideshow": {
     "slide_type": "fragment"
    }
   },
   "outputs": [
    {
     "data": {
      "text/plain": "True"
     },
     "execution_count": 6,
     "metadata": {},
     "output_type": "execute_result"
    }
   ],
   "source": [
    "3 > 0"
   ]
  },
  {
   "cell_type": "code",
   "execution_count": 7,
   "metadata": {
    "slideshow": {
     "slide_type": "fragment"
    }
   },
   "outputs": [
    {
     "data": {
      "text/plain": "False"
     },
     "execution_count": 7,
     "metadata": {},
     "output_type": "execute_result"
    }
   ],
   "source": [
    "3 == 5"
   ]
  },
  {
   "cell_type": "code",
   "execution_count": 8,
   "metadata": {},
   "outputs": [
    {
     "data": {
      "text/plain": "True"
     },
     "execution_count": 8,
     "metadata": {},
     "output_type": "execute_result"
    }
   ],
   "source": [
    "3 != 5"
   ]
  },
  {
   "cell_type": "markdown",
   "metadata": {
    "slideshow": {
     "slide_type": "fragment"
    }
   },
   "source": [
    "Three boolean operators: `not`, `and`, `or`."
   ]
  },
  {
   "cell_type": "code",
   "execution_count": 9,
   "metadata": {
    "slideshow": {
     "slide_type": "fragment"
    }
   },
   "outputs": [
    {
     "data": {
      "text/plain": "True"
     },
     "execution_count": 9,
     "metadata": {},
     "output_type": "execute_result"
    }
   ],
   "source": [
    "3 > 0 and 2 > 0"
   ]
  },
  {
   "cell_type": "code",
   "execution_count": 10,
   "metadata": {
    "slideshow": {
     "slide_type": "fragment"
    }
   },
   "outputs": [
    {
     "data": {
      "text/plain": "False"
     },
     "execution_count": 10,
     "metadata": {},
     "output_type": "execute_result"
    }
   ],
   "source": [
    "3 < 0 or 2 < 0"
   ]
  },
  {
   "cell_type": "markdown",
   "metadata": {
    "slideshow": {
     "slide_type": "slide"
    }
   },
   "source": [
    "Strings (aka `str`) are sequences of characters. Python has some pretty neat operations on strings."
   ]
  },
  {
   "cell_type": "code",
   "execution_count": 11,
   "metadata": {
    "slideshow": {
     "slide_type": "fragment"
    }
   },
   "outputs": [
    {
     "data": {
      "text/plain": "'Pythoniscool'"
     },
     "execution_count": 11,
     "metadata": {},
     "output_type": "execute_result"
    }
   ],
   "source": [
    "\"Python\" + \"is\" + \"cool\""
   ]
  },
  {
   "cell_type": "code",
   "execution_count": 12,
   "metadata": {
    "slideshow": {
     "slide_type": "fragment"
    }
   },
   "outputs": [
    {
     "data": {
      "text/plain": "True"
     },
     "execution_count": 12,
     "metadata": {},
     "output_type": "execute_result"
    }
   ],
   "source": [
    "\"Python\" in \"the Python programming language\""
   ]
  },
  {
   "cell_type": "code",
   "execution_count": 13,
   "metadata": {
    "slideshow": {
     "slide_type": "fragment"
    }
   },
   "outputs": [
    {
     "data": {
      "text/plain": "'y'"
     },
     "execution_count": 13,
     "metadata": {},
     "output_type": "execute_result"
    }
   ],
   "source": [
    "s = \"Python is cool\"\n",
    "s[1]"
   ]
  },
  {
   "cell_type": "code",
   "execution_count": 14,
   "metadata": {
    "slideshow": {
     "slide_type": "fragment"
    }
   },
   "outputs": [
    {
     "data": {
      "text/plain": "'Python'"
     },
     "execution_count": 14,
     "metadata": {},
     "output_type": "execute_result"
    }
   ],
   "source": [
    "s[0:6]"
   ]
  },
  {
   "cell_type": "markdown",
   "metadata": {},
   "source": [
    "Python strings support Unicode by default."
   ]
  },
  {
   "cell_type": "code",
   "execution_count": 15,
   "metadata": {},
   "outputs": [
    {
     "data": {
      "text/plain": "'Allô 你好'"
     },
     "execution_count": 15,
     "metadata": {},
     "output_type": "execute_result"
    }
   ],
   "source": [
    "\"Allô 你好\""
   ]
  },
  {
   "cell_type": "markdown",
   "metadata": {},
   "source": [
    "Python supports **string interpolation**, which lets you embed code expressions within strings.\n",
    "\n",
    "We'll demo one modern approach: f-strings."
   ]
  },
  {
   "cell_type": "code",
   "execution_count": 16,
   "metadata": {},
   "outputs": [
    {
     "data": {
      "text/plain": "'2 to the power of 10 is 1024.'"
     },
     "execution_count": 16,
     "metadata": {},
     "output_type": "execute_result"
    }
   ],
   "source": [
    "n = 10\n",
    "\n",
    "f'2 to the power of {n} is {2**n}.'"
   ]
  },
  {
   "cell_type": "markdown",
   "metadata": {
    "slideshow": {
     "slide_type": "slide"
    }
   },
   "source": [
    "One **warning** with using Jupyter notebooks: you can use variables across cells, but have to be careful about executing cells in order."
   ]
  },
  {
   "cell_type": "code",
   "execution_count": 17,
   "metadata": {
    "slideshow": {
     "slide_type": "fragment"
    }
   },
   "outputs": [
    {
     "data": {
      "text/plain": "1267650600228229401496703205376"
     },
     "execution_count": 17,
     "metadata": {},
     "output_type": "execute_result"
    }
   ],
   "source": [
    "x = 100\n",
    "2 ** x"
   ]
  },
  {
   "cell_type": "code",
   "execution_count": 18,
   "metadata": {
    "slideshow": {
     "slide_type": "fragment"
    }
   },
   "outputs": [
    {
     "data": {
      "text/plain": "2535301200456458802993406410752"
     },
     "execution_count": 18,
     "metadata": {},
     "output_type": "execute_result"
    }
   ],
   "source": [
    "y = x + 1\n",
    "2 ** y"
   ]
  },
  {
   "cell_type": "code",
   "execution_count": 19,
   "metadata": {
    "slideshow": {
     "slide_type": "fragment"
    }
   },
   "outputs": [
    {
     "data": {
      "text/plain": "204"
     },
     "execution_count": 19,
     "metadata": {},
     "output_type": "execute_result"
    }
   ],
   "source": [
    "z = y + 1\n",
    "2 * z"
   ]
  },
  {
   "cell_type": "markdown",
   "metadata": {
    "slideshow": {
     "slide_type": "fragment"
    }
   },
   "source": [
    "Tips to avoid this:\n",
    "\n",
    "- Always run cells in top-down order\n",
    "- Use the \"`In [XX]`\" numbers to track the history\n",
    "- When in doubt, re-run all cells (`Ctrl + A` and then `Ctrl-Enter`)"
   ]
  },
  {
   "cell_type": "markdown",
   "metadata": {
    "slideshow": {
     "slide_type": "slide"
    }
   },
   "source": [
    "## Functions, methods, and libraries"
   ]
  },
  {
   "cell_type": "markdown",
   "metadata": {
    "slideshow": {
     "slide_type": "slide"
    }
   },
   "source": [
    "A **function** is a ...\n",
    "\n",
    "Here are some examples of Python's built-in functions."
   ]
  },
  {
   "cell_type": "code",
   "execution_count": 20,
   "metadata": {
    "slideshow": {
     "slide_type": "fragment"
    }
   },
   "outputs": [
    {
     "data": {
      "text/plain": "1.5"
     },
     "execution_count": 20,
     "metadata": {},
     "output_type": "execute_result"
    }
   ],
   "source": [
    "abs(-1.5)"
   ]
  },
  {
   "cell_type": "code",
   "execution_count": 21,
   "metadata": {
    "slideshow": {
     "slide_type": "fragment"
    }
   },
   "outputs": [
    {
     "data": {
      "text/plain": "3"
     },
     "execution_count": 21,
     "metadata": {},
     "output_type": "execute_result"
    }
   ],
   "source": [
    "max(1, 3)"
   ]
  },
  {
   "cell_type": "code",
   "execution_count": 22,
   "metadata": {
    "slideshow": {
     "slide_type": "fragment"
    }
   },
   "outputs": [
    {
     "data": {
      "text/plain": "5"
     },
     "execution_count": 22,
     "metadata": {},
     "output_type": "execute_result"
    }
   ],
   "source": [
    "max(1, 2, 3, 4, 5)"
   ]
  },
  {
   "cell_type": "code",
   "execution_count": 23,
   "metadata": {
    "slideshow": {
     "slide_type": "fragment"
    }
   },
   "outputs": [
    {
     "data": {
      "text/plain": "13"
     },
     "execution_count": 23,
     "metadata": {},
     "output_type": "execute_result"
    }
   ],
   "source": [
    "len(\"Hello, world!\")"
   ]
  },
  {
   "cell_type": "markdown",
   "metadata": {},
   "source": [
    "**Tip**: you can use `help` to get info about a function."
   ]
  },
  {
   "cell_type": "code",
   "execution_count": 24,
   "metadata": {},
   "outputs": [
    {
     "name": "stdout",
     "output_type": "stream",
     "text": [
      "Help on built-in function abs in module builtins:\n",
      "\n",
      "abs(x, /)\n",
      "    Return the absolute value of the argument.\n",
      "\n"
     ]
    }
   ],
   "source": [
    "help(abs)"
   ]
  },
  {
   "attachments": {
    "python_builtin_functions.png": {
     "image/png": "[encoded data removed]"
    }
   },
   "cell_type": "markdown",
   "metadata": {
    "slideshow": {
     "slide_type": "slide"
    }
   },
   "source": [
    "![python_builtin_functions.png](python_builtin_functions.png)"
   ]
  },
  {
   "cell_type": "markdown",
   "metadata": {
    "slideshow": {
     "slide_type": "slide"
    }
   },
   "source": [
    "Python has many **libraries** that define additional functions. We can access these functions by **importing** them from libraries."
   ]
  },
  {
   "cell_type": "code",
   "execution_count": 25,
   "metadata": {
    "slideshow": {
     "slide_type": "fragment"
    }
   },
   "outputs": [
    {
     "data": {
      "text/plain": "10.0"
     },
     "execution_count": 25,
     "metadata": {},
     "output_type": "execute_result"
    }
   ],
   "source": [
    "import math  # Import the entire math library\n",
    "\n",
    "math.sqrt(100)  # Call the sqrt function from the math library"
   ]
  },
  {
   "cell_type": "code",
   "execution_count": 26,
   "metadata": {
    "slideshow": {
     "slide_type": "fragment"
    }
   },
   "outputs": [
    {
     "data": {
      "text/plain": "10.0"
     },
     "execution_count": 26,
     "metadata": {},
     "output_type": "execute_result"
    }
   ],
   "source": [
    "from math import sqrt  # Import a specific function\n",
    "\n",
    "sqrt(100)  # Now, call the function without prefixing with \".math\""
   ]
  },
  {
   "cell_type": "markdown",
   "metadata": {},
   "source": [
    "You can use the `dir` and `help` functions to learn more about a library."
   ]
  },
  {
   "cell_type": "code",
   "execution_count": 27,
   "metadata": {},
   "outputs": [
    {
     "data": {
      "text/plain": "['__doc__',\n '__loader__',\n '__name__',\n '__package__',\n '__spec__',\n 'acos',\n 'acosh',\n 'asin',\n 'asinh',\n 'atan',\n 'atan2',\n 'atanh',\n 'ceil',\n 'comb',\n 'copysign',\n 'cos',\n 'cosh',\n 'degrees',\n 'dist',\n 'e',\n 'erf',\n 'erfc',\n 'exp',\n 'expm1',\n 'fabs',\n 'factorial',\n 'floor',\n 'fmod',\n 'frexp',\n 'fsum',\n 'gamma',\n 'gcd',\n 'hypot',\n 'inf',\n 'isclose',\n 'isfinite',\n 'isinf',\n 'isnan',\n 'isqrt',\n 'lcm',\n 'ldexp',\n 'lgamma',\n 'log',\n 'log10',\n 'log1p',\n 'log2',\n 'modf',\n 'nan',\n 'nextafter',\n 'perm',\n 'pi',\n 'pow',\n 'prod',\n 'radians',\n 'remainder',\n 'sin',\n 'sinh',\n 'sqrt',\n 'tan',\n 'tanh',\n 'tau',\n 'trunc',\n 'ulp']"
     },
     "execution_count": 27,
     "metadata": {},
     "output_type": "execute_result"
    }
   ],
   "source": [
    "dir(math)"
   ]
  },
  {
   "cell_type": "code",
   "execution_count": 28,
   "metadata": {
    "scrolled": false,
    "slideshow": {
     "slide_type": "slide"
    }
   },
   "outputs": [
    {
     "name": "stdout",
     "output_type": "stream",
     "text": [
      "Help on built-in module math:\n",
      "\n",
      "NAME\n",
      "    math\n",
      "\n",
      "DESCRIPTION\n",
      "    This module provides access to the mathematical functions\n",
      "    defined by the C standard.\n",
      "\n",
      "FUNCTIONS\n",
      "    acos(x, /)\n",
      "        Return the arc cosine (measured in radians) of x.\n",
      "        \n",
      "        The result is between 0 and pi.\n",
      "    \n",
      "    acosh(x, /)\n",
      "        Return the inverse hyperbolic cosine of x.\n",
      "    \n",
      "    asin(x, /)\n",
      "        Return the arc sine (measured in radians) of x.\n",
      "        \n",
      "        The result is between -pi/2 and pi/2.\n",
      "    \n",
      "    asinh(x, /)\n",
      "        Return the inverse hyperbolic sine of x.\n",
      "    \n",
      "    atan(x, /)\n",
      "        Return the arc tangent (measured in radians) of x.\n",
      "        \n",
      "        The result is between -pi/2 and pi/2.\n",
      "    \n",
      "    atan2(y, x, /)\n",
      "        Return the arc tangent (measured in radians) of y/x.\n",
      "        \n",
      "        Unlike atan(y/x), the signs of both x and y are considered.\n",
      "    \n",
      "    atanh(x, /)\n",
      "        Return the inverse hyperbolic tangent of x.\n",
      "    \n",
      "    ceil(x, /)\n",
      "        Return the ceiling of x as an Integral.\n",
      "        \n",
      "        This is the smallest integer >= x.\n",
      "    \n",
      "    comb(n, k, /)\n",
      "        Number of ways to choose k items from n items without repetition and without order.\n",
      "        \n",
      "        Evaluates to n! / (k! * (n - k)!) when k <= n and evaluates\n",
      "        to zero when k > n.\n",
      "        \n",
      "        Also called the binomial coefficient because it is equivalent\n",
      "        to the coefficient of k-th term in polynomial expansion of the\n",
      "        expression (1 + x)**n.\n",
      "        \n",
      "        Raises TypeError if either of the arguments are not integers.\n",
      "        Raises ValueError if either of the arguments are negative.\n",
      "    \n",
      "    copysign(x, y, /)\n",
      "        Return a float with the magnitude (absolute value) of x but the sign of y.\n",
      "        \n",
      "        On platforms that support signed zeros, copysign(1.0, -0.0)\n",
      "        returns -1.0.\n",
      "    \n",
      "    cos(x, /)\n",
      "        Return the cosine of x (measured in radians).\n",
      "    \n",
      "    cosh(x, /)\n",
      "        Return the hyperbolic cosine of x.\n",
      "    \n",
      "    degrees(x, /)\n",
      "        Convert angle x from radians to degrees.\n",
      "    \n",
      "    dist(p, q, /)\n",
      "        Return the Euclidean distance between two points p and q.\n",
      "        \n",
      "        The points should be specified as sequences (or iterables) of\n",
      "        coordinates.  Both inputs must have the same dimension.\n",
      "        \n",
      "        Roughly equivalent to:\n",
      "            sqrt(sum((px - qx) ** 2.0 for px, qx in zip(p, q)))\n",
      "    \n",
      "    erf(x, /)\n",
      "        Error function at x.\n",
      "    \n",
      "    erfc(x, /)\n",
      "        Complementary error function at x.\n",
      "    \n",
      "    exp(x, /)\n",
      "        Return e raised to the power of x.\n",
      "    \n",
      "    expm1(x, /)\n",
      "        Return exp(x)-1.\n",
      "        \n",
      "        This function avoids the loss of precision involved in the direct evaluation of exp(x)-1 for small x.\n",
      "    \n",
      "    fabs(x, /)\n",
      "        Return the absolute value of the float x.\n",
      "    \n",
      "    factorial(x, /)\n",
      "        Find x!.\n",
      "        \n",
      "        Raise a ValueError if x is negative or non-integral.\n",
      "    \n",
      "    floor(x, /)\n",
      "        Return the floor of x as an Integral.\n",
      "        \n",
      "        This is the largest integer <= x.\n",
      "    \n",
      "    fmod(x, y, /)\n",
      "        Return fmod(x, y), according to platform C.\n",
      "        \n",
      "        x % y may differ.\n",
      "    \n",
      "    frexp(x, /)\n",
      "        Return the mantissa and exponent of x, as pair (m, e).\n",
      "        \n",
      "        m is a float and e is an int, such that x = m * 2.**e.\n",
      "        If x is 0, m and e are both 0.  Else 0.5 <= abs(m) < 1.0.\n",
      "    \n",
      "    fsum(seq, /)\n",
      "        Return an accurate floating point sum of values in the iterable seq.\n",
      "        \n",
      "        Assumes IEEE-754 floating point arithmetic.\n",
      "    \n",
      "    gamma(x, /)\n",
      "        Gamma function at x.\n",
      "    \n",
      "    gcd(*integers)\n",
      "        Greatest Common Divisor.\n",
      "    \n",
      "    hypot(...)\n",
      "        hypot(*coordinates) -> value\n",
      "        \n",
      "        Multidimensional Euclidean distance from the origin to a point.\n",
      "        \n",
      "        Roughly equivalent to:\n",
      "            sqrt(sum(x**2 for x in coordinates))\n",
      "        \n",
      "        For a two dimensional point (x, y), gives the hypotenuse\n",
      "        using the Pythagorean theorem:  sqrt(x*x + y*y).\n",
      "        \n",
      "        For example, the hypotenuse of a 3/4/5 right triangle is:\n",
      "        \n",
      "            >>> hypot(3.0, 4.0)\n",
      "            5.0\n",
      "    \n",
      "    isclose(a, b, *, rel_tol=1e-09, abs_tol=0.0)\n",
      "        Determine whether two floating point numbers are close in value.\n",
      "        \n",
      "          rel_tol\n",
      "            maximum difference for being considered \"close\", relative to the\n",
      "            magnitude of the input values\n",
      "          abs_tol\n",
      "            maximum difference for being considered \"close\", regardless of the\n",
      "            magnitude of the input values\n",
      "        \n",
      "        Return True if a is close in value to b, and False otherwise.\n",
      "        \n",
      "        For the values to be considered close, the difference between them\n",
      "        must be smaller than at least one of the tolerances.\n",
      "        \n",
      "        -inf, inf and NaN behave similarly to the IEEE 754 Standard.  That\n",
      "        is, NaN is not close to anything, even itself.  inf and -inf are\n",
      "        only close to themselves.\n",
      "    \n",
      "    isfinite(x, /)\n",
      "        Return True if x is neither an infinity nor a NaN, and False otherwise.\n",
      "    \n",
      "    isinf(x, /)\n",
      "        Return True if x is a positive or negative infinity, and False otherwise.\n",
      "    \n",
      "    isnan(x, /)\n",
      "        Return True if x is a NaN (not a number), and False otherwise.\n",
      "    \n",
      "    isqrt(n, /)\n",
      "        Return the integer part of the square root of the input.\n",
      "    \n",
      "    lcm(*integers)\n",
      "        Least Common Multiple.\n",
      "    \n",
      "    ldexp(x, i, /)\n",
      "        Return x * (2**i).\n",
      "        \n",
      "        This is essentially the inverse of frexp().\n",
      "    \n",
      "    lgamma(x, /)\n",
      "        Natural logarithm of absolute value of Gamma function at x.\n",
      "    \n",
      "    log(...)\n",
      "        log(x, [base=math.e])\n",
      "        Return the logarithm of x to the given base.\n",
      "        \n",
      "        If the base not specified, returns the natural logarithm (base e) of x.\n",
      "    \n",
      "    log10(x, /)\n",
      "        Return the base 10 logarithm of x.\n",
      "    \n",
      "    log1p(x, /)\n",
      "        Return the natural logarithm of 1+x (base e).\n",
      "        \n",
      "        The result is computed in a way which is accurate for x near zero.\n",
      "    \n",
      "    log2(x, /)\n",
      "        Return the base 2 logarithm of x.\n",
      "    \n",
      "    modf(x, /)\n",
      "        Return the fractional and integer parts of x.\n",
      "        \n",
      "        Both results carry the sign of x and are floats.\n",
      "    \n",
      "    nextafter(x, y, /)\n",
      "        Return the next floating-point value after x towards y.\n",
      "    \n",
      "    perm(n, k=None, /)\n",
      "        Number of ways to choose k items from n items without repetition and with order.\n",
      "        \n",
      "        Evaluates to n! / (n - k)! when k <= n and evaluates\n",
      "        to zero when k > n.\n",
      "        \n",
      "        If k is not specified or is None, then k defaults to n\n",
      "        and the function returns n!.\n",
      "        \n",
      "        Raises TypeError if either of the arguments are not integers.\n",
      "        Raises ValueError if either of the arguments are negative.\n",
      "    \n",
      "    pow(x, y, /)\n",
      "        Return x**y (x to the power of y).\n",
      "    \n",
      "    prod(iterable, /, *, start=1)\n",
      "        Calculate the product of all the elements in the input iterable.\n",
      "        \n",
      "        The default start value for the product is 1.\n",
      "        \n",
      "        When the iterable is empty, return the start value.  This function is\n",
      "        intended specifically for use with numeric values and may reject\n",
      "        non-numeric types.\n",
      "    \n",
      "    radians(x, /)\n",
      "        Convert angle x from degrees to radians.\n",
      "    \n",
      "    remainder(x, y, /)\n",
      "        Difference between x and the closest integer multiple of y.\n",
      "        \n",
      "        Return x - n*y where n*y is the closest integer multiple of y.\n",
      "        In the case where x is exactly halfway between two multiples of\n",
      "        y, the nearest even value of n is used. The result is always exact.\n",
      "    \n",
      "    sin(x, /)\n",
      "        Return the sine of x (measured in radians).\n",
      "    \n",
      "    sinh(x, /)\n",
      "        Return the hyperbolic sine of x.\n",
      "    \n",
      "    sqrt(x, /)\n",
      "        Return the square root of x.\n",
      "    \n",
      "    tan(x, /)\n",
      "        Return the tangent of x (measured in radians).\n",
      "    \n",
      "    tanh(x, /)\n",
      "        Return the hyperbolic tangent of x.\n",
      "    \n",
      "    trunc(x, /)\n",
      "        Truncates the Real x to the nearest Integral toward 0.\n",
      "        \n",
      "        Uses the __trunc__ magic method.\n",
      "    \n",
      "    ulp(x, /)\n",
      "        Return the value of the least significant bit of the float x.\n",
      "\n",
      "DATA\n",
      "    e = 2.718281828459045\n",
      "    inf = inf\n",
      "    nan = nan\n",
      "    pi = 3.141592653589793\n",
      "    tau = 6.283185307179586\n",
      "\n",
      "FILE\n",
      "    (built-in)\n",
      "\n",
      "\n"
     ]
    }
   ],
   "source": [
    "help(math)"
   ]
  },
  {
   "cell_type": "markdown",
   "metadata": {
    "slideshow": {
     "slide_type": "slide"
    }
   },
   "source": [
    "In Python, data types (aka *classes*) can define functions that operate on values of that class. A function that is defined as a part of a class is called a **method**.\n",
    "\n",
    "Here are some examples of string methods."
   ]
  },
  {
   "cell_type": "code",
   "execution_count": 29,
   "metadata": {
    "slideshow": {
     "slide_type": "fragment"
    }
   },
   "outputs": [],
   "source": [
    "my_str = 'python is a cool language'"
   ]
  },
  {
   "cell_type": "code",
   "execution_count": 30,
   "metadata": {
    "scrolled": true,
    "slideshow": {
     "slide_type": "fragment"
    }
   },
   "outputs": [
    {
     "data": {
      "text/plain": "'PYTHON IS A COOL LANGUAGE'"
     },
     "execution_count": 30,
     "metadata": {},
     "output_type": "execute_result"
    }
   ],
   "source": [
    "my_str.upper()"
   ]
  },
  {
   "cell_type": "code",
   "execution_count": 31,
   "metadata": {
    "slideshow": {
     "slide_type": "fragment"
    }
   },
   "outputs": [
    {
     "data": {
      "text/plain": "3"
     },
     "execution_count": 31,
     "metadata": {},
     "output_type": "execute_result"
    }
   ],
   "source": [
    "my_str.count('o')"
   ]
  },
  {
   "cell_type": "code",
   "execution_count": 32,
   "metadata": {
    "scrolled": true,
    "slideshow": {
     "slide_type": "fragment"
    }
   },
   "outputs": [
    {
     "data": {
      "text/plain": "['python', 'is', 'a', 'cool', 'language']"
     },
     "execution_count": 32,
     "metadata": {},
     "output_type": "execute_result"
    }
   ],
   "source": [
    "my_str.split()"
   ]
  },
  {
   "cell_type": "markdown",
   "metadata": {
    "slideshow": {
     "slide_type": "fragment"
    }
   },
   "source": [
    "**Tip**: You can call `dir` and `help` on data types like `str` too."
   ]
  },
  {
   "cell_type": "markdown",
   "metadata": {
    "slideshow": {
     "slide_type": "slide"
    }
   },
   "source": [
    "## Collection data types (lists and dictionaries)"
   ]
  },
  {
   "cell_type": "markdown",
   "metadata": {
    "slideshow": {
     "slide_type": "slide"
    }
   },
   "source": [
    "A **list** is an ordered sequence of values. In Python, lists can contain elements of different types, although usually they won't."
   ]
  },
  {
   "cell_type": "code",
   "execution_count": 33,
   "metadata": {
    "slideshow": {
     "slide_type": "fragment"
    }
   },
   "outputs": [],
   "source": [
    "my_list = [10, 20, 30, 40]"
   ]
  },
  {
   "cell_type": "code",
   "execution_count": 34,
   "metadata": {
    "slideshow": {
     "slide_type": "fragment"
    }
   },
   "outputs": [
    {
     "data": {
      "text/plain": "10"
     },
     "execution_count": 34,
     "metadata": {},
     "output_type": "execute_result"
    }
   ],
   "source": [
    "my_list[0]  # List indexing starts at 0!"
   ]
  },
  {
   "cell_type": "code",
   "execution_count": 35,
   "metadata": {
    "scrolled": true,
    "slideshow": {
     "slide_type": "fragment"
    }
   },
   "outputs": [
    {
     "data": {
      "text/plain": "4"
     },
     "execution_count": 35,
     "metadata": {},
     "output_type": "execute_result"
    }
   ],
   "source": [
    "len(my_list)"
   ]
  },
  {
   "cell_type": "code",
   "execution_count": 36,
   "metadata": {},
   "outputs": [
    {
     "data": {
      "text/plain": "True"
     },
     "execution_count": 36,
     "metadata": {},
     "output_type": "execute_result"
    }
   ],
   "source": [
    "30 in my_list"
   ]
  },
  {
   "cell_type": "code",
   "execution_count": 37,
   "metadata": {
    "slideshow": {
     "slide_type": "fragment"
    }
   },
   "outputs": [
    {
     "name": "stdout",
     "output_type": "stream",
     "text": [
      "[10, 20, 30, 40, 7, 8, 9]\n",
      "[10, 20, 30, 40]\n"
     ]
    }
   ],
   "source": [
    "print(my_list + [7, 8, 9])  # List concatenation\n",
    "print(my_list)              # Original list is unchanged"
   ]
  },
  {
   "cell_type": "code",
   "execution_count": 38,
   "metadata": {
    "slideshow": {
     "slide_type": "fragment"
    }
   },
   "outputs": [
    {
     "name": "stdout",
     "output_type": "stream",
     "text": [
      "[10, 20, 30, 40, 'Python', 'R']\n"
     ]
    }
   ],
   "source": [
    "my_list.append('Python')\n",
    "my_list.append('R')\n",
    "print(my_list)"
   ]
  },
  {
   "cell_type": "code",
   "execution_count": 39,
   "metadata": {
    "slideshow": {
     "slide_type": "fragment"
    }
   },
   "outputs": [
    {
     "name": "stdout",
     "output_type": "stream",
     "text": [
      "Help on class list in module builtins:\n",
      "\n",
      "class list(object)\n",
      " |  list(iterable=(), /)\n",
      " |  \n",
      " |  Built-in mutable sequence.\n",
      " |  \n",
      " |  If no argument is given, the constructor creates a new empty list.\n",
      " |  The argument must be an iterable if specified.\n",
      " |  \n",
      " |  Methods defined here:\n",
      " |  \n",
      " |  __add__(self, value, /)\n",
      " |      Return self+value.\n",
      " |  \n",
      " |  __contains__(self, key, /)\n",
      " |      Return key in self.\n",
      " |  \n",
      " |  __delitem__(self, key, /)\n",
      " |      Delete self[key].\n",
      " |  \n",
      " |  __eq__(self, value, /)\n",
      " |      Return self==value.\n",
      " |  \n",
      " |  __ge__(self, value, /)\n",
      " |      Return self>=value.\n",
      " |  \n",
      " |  __getattribute__(self, name, /)\n",
      " |      Return getattr(self, name).\n",
      " |  \n",
      " |  __getitem__(...)\n",
      " |      x.__getitem__(y) <==> x[y]\n",
      " |  \n",
      " |  __gt__(self, value, /)\n",
      " |      Return self>value.\n",
      " |  \n",
      " |  __iadd__(self, value, /)\n",
      " |      Implement self+=value.\n",
      " |  \n",
      " |  __imul__(self, value, /)\n",
      " |      Implement self*=value.\n",
      " |  \n",
      " |  __init__(self, /, *args, **kwargs)\n",
      " |      Initialize self.  See help(type(self)) for accurate signature.\n",
      " |  \n",
      " |  __iter__(self, /)\n",
      " |      Implement iter(self).\n",
      " |  \n",
      " |  __le__(self, value, /)\n",
      " |      Return self<=value.\n",
      " |  \n",
      " |  __len__(self, /)\n",
      " |      Return len(self).\n",
      " |  \n",
      " |  __lt__(self, value, /)\n",
      " |      Return self<value.\n",
      " |  \n",
      " |  __mul__(self, value, /)\n",
      " |      Return self*value.\n",
      " |  \n",
      " |  __ne__(self, value, /)\n",
      " |      Return self!=value.\n",
      " |  \n",
      " |  __repr__(self, /)\n",
      " |      Return repr(self).\n",
      " |  \n",
      " |  __reversed__(self, /)\n",
      " |      Return a reverse iterator over the list.\n",
      " |  \n",
      " |  __rmul__(self, value, /)\n",
      " |      Return value*self.\n",
      " |  \n",
      " |  __setitem__(self, key, value, /)\n",
      " |      Set self[key] to value.\n",
      " |  \n",
      " |  __sizeof__(self, /)\n",
      " |      Return the size of the list in memory, in bytes.\n",
      " |  \n",
      " |  append(self, object, /)\n",
      " |      Append object to the end of the list.\n",
      " |  \n",
      " |  clear(self, /)\n",
      " |      Remove all items from list.\n",
      " |  \n",
      " |  copy(self, /)\n",
      " |      Return a shallow copy of the list.\n",
      " |  \n",
      " |  count(self, value, /)\n",
      " |      Return number of occurrences of value.\n",
      " |  \n",
      " |  extend(self, iterable, /)\n",
      " |      Extend list by appending elements from the iterable.\n",
      " |  \n",
      " |  index(self, value, start=0, stop=9223372036854775807, /)\n",
      " |      Return first index of value.\n",
      " |      \n",
      " |      Raises ValueError if the value is not present.\n",
      " |  \n",
      " |  insert(self, index, object, /)\n",
      " |      Insert object before index.\n",
      " |  \n",
      " |  pop(self, index=-1, /)\n",
      " |      Remove and return item at index (default last).\n",
      " |      \n",
      " |      Raises IndexError if list is empty or index is out of range.\n",
      " |  \n",
      " |  remove(self, value, /)\n",
      " |      Remove first occurrence of value.\n",
      " |      \n",
      " |      Raises ValueError if the value is not present.\n",
      " |  \n",
      " |  reverse(self, /)\n",
      " |      Reverse *IN PLACE*.\n",
      " |  \n",
      " |  sort(self, /, *, key=None, reverse=False)\n",
      " |      Sort the list in ascending order and return None.\n",
      " |      \n",
      " |      The sort is in-place (i.e. the list itself is modified) and stable (i.e. the\n",
      " |      order of two equal elements is maintained).\n",
      " |      \n",
      " |      If a key function is given, apply it once to each list item and sort them,\n",
      " |      ascending or descending, according to their function values.\n",
      " |      \n",
      " |      The reverse flag can be set to sort in descending order.\n",
      " |  \n",
      " |  ----------------------------------------------------------------------\n",
      " |  Class methods defined here:\n",
      " |  \n",
      " |  __class_getitem__(...) from builtins.type\n",
      " |      See PEP 585\n",
      " |  \n",
      " |  ----------------------------------------------------------------------\n",
      " |  Static methods defined here:\n",
      " |  \n",
      " |  __new__(*args, **kwargs) from builtins.type\n",
      " |      Create and return a new object.  See help(type) for accurate signature.\n",
      " |  \n",
      " |  ----------------------------------------------------------------------\n",
      " |  Data and other attributes defined here:\n",
      " |  \n",
      " |  __hash__ = None\n",
      "\n"
     ]
    }
   ],
   "source": [
    "help(list)"
   ]
  },
  {
   "cell_type": "markdown",
   "metadata": {
    "slideshow": {
     "slide_type": "slide"
    }
   },
   "source": [
    "A **dictionary** is a map (aka lookup table) from keys to corresponding values."
   ]
  },
  {
   "cell_type": "code",
   "execution_count": 40,
   "metadata": {
    "slideshow": {
     "slide_type": "fragment"
    }
   },
   "outputs": [],
   "source": [
    "my_dict = {'a': 10, 'b': 20, 'c': 30}"
   ]
  },
  {
   "cell_type": "code",
   "execution_count": 41,
   "metadata": {
    "scrolled": true,
    "slideshow": {
     "slide_type": "fragment"
    }
   },
   "outputs": [
    {
     "data": {
      "text/plain": "10"
     },
     "execution_count": 41,
     "metadata": {},
     "output_type": "execute_result"
    }
   ],
   "source": [
    "my_dict['a']  # Key lookup"
   ]
  },
  {
   "cell_type": "code",
   "execution_count": 42,
   "metadata": {
    "slideshow": {
     "slide_type": "fragment"
    }
   },
   "outputs": [
    {
     "data": {
      "text/plain": "True"
     },
     "execution_count": 42,
     "metadata": {},
     "output_type": "execute_result"
    }
   ],
   "source": [
    "'a' in my_dict"
   ]
  },
  {
   "cell_type": "code",
   "execution_count": 43,
   "metadata": {
    "slideshow": {
     "slide_type": "fragment"
    }
   },
   "outputs": [
    {
     "name": "stdout",
     "output_type": "stream",
     "text": [
      "{'a': 40, 'b': 20, 'c': 30}\n",
      "{'a': 40, 'b': 20, 'c': 30, 'd': 60}\n"
     ]
    }
   ],
   "source": [
    "my_dict['a'] = 40  # Key assignment\n",
    "print(my_dict)\n",
    "\n",
    "my_dict['d'] = 60  # Can assign to new keys\n",
    "print(my_dict)"
   ]
  },
  {
   "cell_type": "markdown",
   "metadata": {
    "slideshow": {
     "slide_type": "slide"
    }
   },
   "source": [
    "## Control flow statements"
   ]
  },
  {
   "cell_type": "markdown",
   "metadata": {
    "slideshow": {
     "slide_type": "slide"
    }
   },
   "source": [
    "If statements use three keywords: `if`, `elif`, `else`."
   ]
  },
  {
   "cell_type": "code",
   "execution_count": 44,
   "metadata": {
    "slideshow": {
     "slide_type": "fragment"
    }
   },
   "outputs": [
    {
     "name": "stdout",
     "output_type": "stream",
     "text": [
      "x is greater than 5\n"
     ]
    }
   ],
   "source": [
    "x = 10\n",
    "\n",
    "if x > 50:\n",
    "    print('x is greater than 50')\n",
    "elif x > 5:\n",
    "    print('x is greater than 5')\n",
    "elif x > 0:\n",
    "    print('x is greater than 0')\n",
    "else:\n",
    "    print('x is <= 0')"
   ]
  },
  {
   "cell_type": "markdown",
   "metadata": {
    "slideshow": {
     "slide_type": "fragment"
    }
   },
   "source": [
    "**Warning**: Python is infamous for its syntactically significant whitespace. Code inside branches of an if statement **must** be indented."
   ]
  },
  {
   "cell_type": "markdown",
   "metadata": {
    "slideshow": {
     "slide_type": "slide"
    }
   },
   "source": [
    "For loops can iterate over a range of numbers or collection."
   ]
  },
  {
   "cell_type": "code",
   "execution_count": 45,
   "metadata": {
    "scrolled": true,
    "slideshow": {
     "slide_type": "fragment"
    }
   },
   "outputs": [
    {
     "name": "stdout",
     "output_type": "stream",
     "text": [
      "0\n",
      "1\n",
      "2\n",
      "3\n",
      "4\n",
      "5\n",
      "6\n",
      "7\n",
      "8\n",
      "9\n"
     ]
    }
   ],
   "source": [
    "for i in range(0, 10):\n",
    "    print(i)"
   ]
  },
  {
   "cell_type": "code",
   "execution_count": 46,
   "metadata": {
    "slideshow": {
     "slide_type": "fragment"
    }
   },
   "outputs": [
    {
     "name": "stdout",
     "output_type": "stream",
     "text": [
      "10\n",
      "20\n",
      "30\n",
      "40\n"
     ]
    }
   ],
   "source": [
    "my_list = [10, 20, 30, 40]\n",
    "\n",
    "for number in my_list:\n",
    "    print(number)"
   ]
  },
  {
   "cell_type": "code",
   "execution_count": 47,
   "metadata": {
    "slideshow": {
     "slide_type": "fragment"
    }
   },
   "outputs": [
    {
     "name": "stdout",
     "output_type": "stream",
     "text": [
      "a\n",
      "10\n",
      "b\n",
      "20\n",
      "c\n",
      "40\n"
     ]
    }
   ],
   "source": [
    "my_dict = {'a': 10, 'b': 20, 'c': 40}\n",
    "\n",
    "for key in my_dict:\n",
    "    print(key)\n",
    "    print(my_dict[key])"
   ]
  },
  {
   "cell_type": "markdown",
   "metadata": {
    "slideshow": {
     "slide_type": "slide"
    }
   },
   "source": [
    "## A Larger Example; Defining Functions"
   ]
  },
  {
   "cell_type": "markdown",
   "metadata": {
    "slideshow": {
     "slide_type": "slide"
    }
   },
   "source": [
    "Now, let's put together everything we've learned so far to create a small model.\n",
    "\n",
    "1. Simulate the rolling of two fair six-sided dice, n = 1000 times. Compute the sum of the dice in each trial.\n",
    "2. Report the frequencies of the sums."
   ]
  },
  {
   "cell_type": "code",
   "execution_count": 48,
   "metadata": {
    "scrolled": true,
    "slideshow": {
     "slide_type": "slide"
    }
   },
   "outputs": [
    {
     "name": "stdout",
     "output_type": "stream",
     "text": [
      "[8, 9, 9, 8, 7, 8, 11, 7, 3, 10, 10, 9, 5, 7, 3, 7, 7, 6, 7, 5, 5, 9, 10, 3, 6, 8, 8, 9, 7, 9, 6, 6, 4, 12, 7, 9, 6, 9, 9, 5, 10, 11, 5, 4, 9, 9, 7, 9, 9, 8, 8, 8, 10, 7, 8, 2, 7, 8, 7, 7, 7, 4, 3, 10, 8, 6, 9, 8, 4, 7, 2, 9, 9, 3, 5, 7, 3, 8, 6, 7, 9, 6, 9, 8, 7, 6, 11, 7, 6, 5, 6, 5, 7, 9, 5, 4, 6, 9, 5, 9, 10, 11, 2, 10, 8, 7, 8, 3, 8, 10, 8, 6, 7, 7, 3, 10, 6, 7, 8, 8, 2, 12, 7, 8, 7, 6, 2, 10, 11, 6, 12, 11, 7, 2, 6, 7, 8, 7, 9, 9, 7, 9, 10, 8, 6, 6, 2, 6, 7, 10, 5, 2, 7, 9, 7, 8, 12, 7, 10, 5, 11, 12, 10, 8, 3, 8, 5, 5, 8, 9, 2, 6, 2, 6, 5, 8, 10, 6, 7, 11, 4, 4, 9, 8, 8, 8, 7, 10, 9, 10, 5, 3, 8, 5, 8, 7, 3, 6, 7, 11, 6, 6, 6, 8, 7, 9, 6, 5, 9, 3, 6, 8, 11, 8, 7, 8, 9, 7, 4, 10, 7, 4, 6, 8, 7, 6, 7, 6, 3, 7, 8, 5, 5, 5, 6, 7, 7, 7, 6, 7, 7, 8, 8, 5, 9, 3, 6, 9, 3, 9, 6, 10, 4, 7, 8, 3, 8, 8, 8, 5, 4, 8, 3, 4, 11, 6, 5, 9, 7, 9, 5, 10, 6, 11, 5, 8, 11, 9, 8, 9, 10, 6, 7, 9, 7, 8, 6, 10, 7, 9, 9, 7, 7, 5, 7, 6, 10, 10, 10, 2, 7, 7, 6, 8, 3, 4, 7, 4, 10, 6, 7, 4, 3, 10, 10, 10, 8, 10, 8, 5, 6, 6, 7, 9, 11, 6, 8, 2, 7, 8, 4, 8, 11, 6, 7, 4, 4, 8, 8, 7, 9, 6, 7, 6, 9, 6, 4, 7, 7, 7, 7, 10, 9, 10, 6, 6, 12, 8, 9, 5, 12, 7, 11, 7, 3, 5, 5, 7, 7, 8, 7, 5, 7, 6, 6, 2, 8, 6, 11, 10, 8, 7, 10, 8, 6, 9, 9, 4, 8, 6, 3, 6, 12, 9, 10, 12, 9, 5, 8, 2, 8, 5, 6, 6, 8, 8, 8, 9, 6, 4, 4, 7, 9, 4, 10, 5, 5, 5, 5, 5, 5, 7, 8, 8, 6, 5, 6, 5, 12, 6, 2, 7, 2, 9, 3, 10, 12, 9, 11, 7, 9, 5, 10, 10, 9, 9, 7, 4, 10, 5, 7, 8, 9, 7, 4, 10, 6, 9, 4, 3, 5, 6, 8, 7, 8, 7, 5, 6, 5, 6, 6, 11, 10, 9, 11, 7, 4, 5, 6, 7, 7, 10, 7, 12, 10, 11, 11, 8, 9, 6, 10, 9, 8, 6, 8, 10, 3, 8, 9, 7, 11, 10, 4, 10, 7, 9, 4, 5, 6, 4, 9, 3, 4, 3, 2, 8, 5, 4, 6, 6, 7, 8, 7, 6, 10, 4, 7, 7, 7, 3, 3, 6, 6, 11, 8, 7, 2, 11, 5, 8, 6, 5, 6, 7, 7, 3, 9, 8, 3, 5, 5, 5, 9, 4, 11, 9, 5, 4, 9, 8, 8, 7, 9, 6, 7, 6, 6, 12, 2, 4, 7, 6, 12, 9, 9, 7, 7, 9, 6, 7, 8, 4, 6, 8, 4, 5, 8, 4, 6, 9, 4, 5, 7, 10, 10, 10, 10, 6, 8, 11, 7, 9, 8, 7, 10, 7, 6, 10, 10, 7, 2, 10, 10, 3, 12, 7, 6, 10, 9, 7, 6, 8, 10, 12, 9, 8, 4, 10, 10, 4, 6, 6, 10, 8, 4, 8, 8, 5, 6, 2, 6, 6, 6, 9, 8, 2, 7, 6, 10, 8, 8, 12, 5, 3, 11, 8, 8, 9, 7, 7, 9, 5, 8, 5, 7, 7, 5, 11, 11, 11, 3, 10, 7, 6, 11, 3, 5, 10, 9, 9, 5, 11, 6, 5, 8, 7, 6, 2, 5, 7, 9, 7, 5, 9, 7, 9, 7, 6, 4, 6, 9, 11, 3, 6, 11, 11, 10, 6, 6, 10, 6, 9, 4, 6, 4, 5, 8, 4, 6, 6, 5, 4, 6, 6, 6, 3, 2, 7, 8, 11, 11, 7, 8, 8, 7, 7, 7, 6, 4, 8, 7, 4, 9, 5, 6, 7, 6, 11, 6, 4, 6, 6, 8, 3, 11, 7, 8, 7, 3, 6, 9, 10, 7, 10, 6, 8, 3, 7, 3, 7, 7, 3, 5, 12, 8, 3, 9, 7, 4, 8, 7, 8, 7, 5, 4, 5, 9, 7, 2, 6, 7, 6, 10, 7, 6, 6, 11, 9, 4, 9, 8, 7, 8, 8, 3, 8, 2, 4, 2, 4, 5, 5, 8, 9, 7, 7, 8, 5, 7, 10, 8, 2, 6, 11, 4, 4, 10, 3, 3, 8, 5, 7, 6, 8, 10, 6, 8, 8, 2, 9, 7, 7, 10, 2, 5, 12, 5, 4, 11, 7, 7, 11, 5, 10, 4, 9, 12, 10, 4, 9, 4, 4, 8, 5, 2, 6, 9, 5, 11, 7, 10, 4, 6, 3, 6, 9, 9, 8, 10, 4, 12, 4, 6, 5, 4, 8, 9, 8, 6, 11, 9, 10, 7, 6, 12, 6, 5, 7, 9, 9, 10, 9, 8, 6, 11, 6, 8, 9, 8, 6, 6, 6, 6, 6, 10, 6, 8, 5, 12, 2, 7, 3, 12, 9, 4, 2, 8, 6, 11, 6, 4, 8, 8, 5, 3, 9, 6, 7, 11, 7, 5, 12, 6, 8, 6, 6, 3, 6, 10, 7, 5, 9, 5, 6, 9, 6, 5, 3, 5, 7, 11, 6, 8, 8, 9, 10, 3, 5, 11, 7, 5, 12, 6, 11, 5, 7, 12, 7, 4, 8, 8, 8, 10, 6, 12, 8, 6, 9, 6, 5, 7, 5, 7, 7, 5, 2, 10, 6, 9, 3]\n"
     ]
    }
   ],
   "source": [
    "import random\n",
    "\n",
    "trials = []  # This variable stores all of the sums\n",
    "\n",
    "for i in range(0, 1000):\n",
    "    d1 = random.randint(1, 6)\n",
    "    d2 = random.randint(1, 6)\n",
    "\n",
    "    trials.append(d1 + d2)\n",
    "\n",
    "print(trials)"
   ]
  },
  {
   "cell_type": "code",
   "execution_count": 49,
   "metadata": {},
   "outputs": [
    {
     "name": "stdout",
     "output_type": "stream",
     "text": [
      "{2: 34, 3: 52, 4: 70, 5: 98, 6: 158, 7: 167, 8: 141, 9: 113, 10: 87, 11: 52, 12: 28}\n"
     ]
    }
   ],
   "source": [
    "counts = {}  # This variable stores counts of each possible sum\n",
    "\n",
    "for i in range(2, 13):\n",
    "    counts[i] = 0  # Each count starts at 0\n",
    "\n",
    "for trial in trials:\n",
    "    counts[trial] = counts[trial] + 1  # Increment counts[trial] by 1\n",
    "\n",
    "print(counts)"
   ]
  },
  {
   "cell_type": "markdown",
   "metadata": {},
   "source": [
    "What if we wanted to parameterize our simulation by the number of trials `n`?\n",
    "\n",
    "We can define our own function to do this."
   ]
  },
  {
   "cell_type": "code",
   "execution_count": 50,
   "metadata": {},
   "outputs": [],
   "source": [
    "# A simple function definition\n",
    "def add(x, y):\n",
    "    return x + y"
   ]
  },
  {
   "cell_type": "code",
   "execution_count": 51,
   "metadata": {},
   "outputs": [
    {
     "data": {
      "text/plain": "14"
     },
     "execution_count": 51,
     "metadata": {},
     "output_type": "execute_result"
    }
   ],
   "source": [
    "add(10, 4)"
   ]
  },
  {
   "cell_type": "code",
   "execution_count": 52,
   "metadata": {},
   "outputs": [],
   "source": [
    "def two_dice_sum(n):\n",
    "    \"\"\"Simulate rolling two six-sided dice n times. Return a frequency count of their sum.\"\"\"\n",
    "    trials = []  # This variable stores all of the sums\n",
    "\n",
    "    for i in range(0, n):\n",
    "        d1 = random.randint(1, 6)\n",
    "        d2 = random.randint(1, 6)\n",
    "\n",
    "        trials.append(d1 + d2)\n",
    "\n",
    "    counts = {}  # This variable stores counts of each possible sum\n",
    "\n",
    "    for i in range(2, 13):\n",
    "        counts[i] = 0  # Each count starts at 0\n",
    "\n",
    "    for trial in trials:\n",
    "        counts[trial] = counts[trial] + 1  # Increment counts[trial] by 1\n",
    "\n",
    "    return counts"
   ]
  },
  {
   "cell_type": "code",
   "execution_count": 53,
   "metadata": {
    "scrolled": false
   },
   "outputs": [
    {
     "data": {
      "text/plain": "{2: 26,\n 3: 54,\n 4: 88,\n 5: 113,\n 6: 142,\n 7: 161,\n 8: 151,\n 9: 108,\n 10: 79,\n 11: 47,\n 12: 31}"
     },
     "execution_count": 53,
     "metadata": {},
     "output_type": "execute_result"
    }
   ],
   "source": [
    "two_dice_sum(1000)"
   ]
  },
  {
   "cell_type": "code",
   "execution_count": 54,
   "metadata": {
    "scrolled": true
   },
   "outputs": [
    {
     "data": {
      "text/plain": "{2: 27869,\n 3: 55353,\n 4: 83205,\n 5: 110980,\n 6: 138915,\n 7: 166363,\n 8: 139127,\n 9: 111392,\n 10: 83238,\n 11: 55760,\n 12: 27798}"
     },
     "execution_count": 54,
     "metadata": {},
     "output_type": "execute_result"
    }
   ],
   "source": [
    "two_dice_sum(1000000)"
   ]
  },
  {
   "cell_type": "markdown",
   "metadata": {},
   "source": [
    "## NumPy"
   ]
  },
  {
   "cell_type": "markdown",
   "metadata": {},
   "source": [
    "So far, we've been working in pure Python. But for the rest of the workshop, we're going to rely on a set of third-party libraries that are the standard for statistical and data science Python applications."
   ]
  },
  {
   "attachments": {
    "numpy.png": {
     "image/png": "[encoded data removed]"
    }
   },
   "cell_type": "markdown",
   "metadata": {},
   "source": [
    "**NumPy** is a library that forms the basis of high-performance scientific computing in Python.\n",
    "\n",
    "- Efficient storage and operation on $n$-dimensional arrays\n",
    "- Written in C, but offers a high-level Python API\n",
    "\n",
    "![numpy.png](numpy.png)"
   ]
  },
  {
   "cell_type": "markdown",
   "metadata": {},
   "source": [
    "The fundamental data type in NumPy is the `array` (aka `ndarray`)."
   ]
  },
  {
   "cell_type": "code",
   "execution_count": 55,
   "metadata": {},
   "outputs": [
    {
     "data": {
      "text/plain": "array([1, 2, 3, 4, 5])"
     },
     "execution_count": 55,
     "metadata": {},
     "output_type": "execute_result"
    }
   ],
   "source": [
    "import numpy as np\n",
    "\n",
    "np.array([1, 2, 3, 4, 5])"
   ]
  },
  {
   "cell_type": "code",
   "execution_count": 56,
   "metadata": {
    "scrolled": true
   },
   "outputs": [
    {
     "data": {
      "text/plain": "array([0.71379929, 0.99552184, 0.99526784, 0.17380469, 0.24039985,\n       0.41856841, 0.40874089, 0.68924653, 0.78263335, 0.88405177,\n       0.87138009, 0.71683134, 0.93896173, 0.4015585 , 0.14638154,\n       0.9872575 , 0.56909674, 0.63198703, 0.71823128, 0.12809703,\n       0.35064142, 0.38495738, 0.64980314, 0.33857352, 0.5242218 ,\n       0.2420199 , 0.71151075, 0.58012767, 0.7305419 , 0.56347474,\n       0.09825253, 0.08814823, 0.01406803, 0.01634735, 0.53406845,\n       0.66828775, 0.92701634, 0.48039796, 0.71328651, 0.5059838 ,\n       0.47459075, 0.59552729, 0.3163192 , 0.11858963, 0.76475215,\n       0.62279785, 0.51830213, 0.57137313, 0.64313929, 0.93138714,\n       0.81506978, 0.3133717 , 0.14491597, 0.12319854, 0.47783078,\n       0.5695755 , 0.90908795, 0.17535929, 0.58771067, 0.86262653,\n       0.6826697 , 0.10662259, 0.5831299 , 0.14975792, 0.68687673,\n       0.18011699, 0.19469796, 0.04643973, 0.16026473, 0.02760805,\n       0.89509652, 0.99765679, 0.40856894, 0.43422933, 0.65139985,\n       0.28803467, 0.34695403, 0.76232367, 0.78425812, 0.66205962,\n       0.27242852, 0.91883207, 0.9900304 , 0.54587089, 0.2385445 ,\n       0.20303711, 0.26762832, 0.06896059, 0.07682623, 0.96678873,\n       0.34448508, 0.17514803, 0.54054379, 0.6437983 , 0.26970806,\n       0.04625202, 0.16460478, 0.27673312, 0.90956062, 0.00119187])"
     },
     "execution_count": 56,
     "metadata": {},
     "output_type": "execute_result"
    }
   ],
   "source": [
    "np.random.rand(100)"
   ]
  },
  {
   "cell_type": "code",
   "execution_count": 57,
   "metadata": {},
   "outputs": [
    {
     "data": {
      "text/plain": "array([[ 0,  1,  2,  3,  4],\n       [ 5,  6,  7,  8,  9],\n       [10, 11, 12, 13, 14],\n       [15, 16, 17, 18, 19],\n       [20, 21, 22, 23, 24],\n       [25, 26, 27, 28, 29],\n       [30, 31, 32, 33, 34],\n       [35, 36, 37, 38, 39],\n       [40, 41, 42, 43, 44],\n       [45, 46, 47, 48, 49],\n       [50, 51, 52, 53, 54],\n       [55, 56, 57, 58, 59],\n       [60, 61, 62, 63, 64],\n       [65, 66, 67, 68, 69],\n       [70, 71, 72, 73, 74],\n       [75, 76, 77, 78, 79],\n       [80, 81, 82, 83, 84],\n       [85, 86, 87, 88, 89],\n       [90, 91, 92, 93, 94],\n       [95, 96, 97, 98, 99]])"
     },
     "execution_count": 57,
     "metadata": {},
     "output_type": "execute_result"
    }
   ],
   "source": [
    "m = np.arange(100).reshape(20, 5)\n",
    "m"
   ]
  },
  {
   "cell_type": "code",
   "execution_count": 58,
   "metadata": {
    "scrolled": true
   },
   "outputs": [
    {
     "name": "stdout",
     "output_type": "stream",
     "text": [
      "100\n",
      "(20, 5)\n",
      "2\n",
      "int32\n"
     ]
    }
   ],
   "source": [
    "print(m.size)\n",
    "print(m.shape)\n",
    "print(m.ndim)\n",
    "print(m.dtype)"
   ]
  },
  {
   "cell_type": "markdown",
   "metadata": {
    "slideshow": {
     "slide_type": "slide"
    }
   },
   "source": [
    "You can using *indexing* and *slicing* to access elements and subarrays."
   ]
  },
  {
   "cell_type": "code",
   "execution_count": 59,
   "metadata": {},
   "outputs": [
    {
     "data": {
      "text/plain": "array([0, 1, 2, 3, 4])"
     },
     "execution_count": 59,
     "metadata": {},
     "output_type": "execute_result"
    }
   ],
   "source": [
    "m[0]"
   ]
  },
  {
   "cell_type": "code",
   "execution_count": 60,
   "metadata": {},
   "outputs": [
    {
     "data": {
      "text/plain": "0"
     },
     "execution_count": 60,
     "metadata": {},
     "output_type": "execute_result"
    }
   ],
   "source": [
    "m[0, 0]"
   ]
  },
  {
   "cell_type": "code",
   "execution_count": 61,
   "metadata": {},
   "outputs": [
    {
     "data": {
      "text/plain": "array([ 0,  5, 10, 15, 20, 25, 30, 35, 40, 45, 50, 55, 60, 65, 70, 75, 80,\n       85, 90, 95])"
     },
     "execution_count": 61,
     "metadata": {},
     "output_type": "execute_result"
    }
   ],
   "source": [
    "m[0:20, 0]  # or just m[:, 0]"
   ]
  },
  {
   "cell_type": "code",
   "execution_count": 62,
   "metadata": {},
   "outputs": [
    {
     "data": {
      "text/plain": "array([[66, 67],\n       [71, 72]])"
     },
     "execution_count": 62,
     "metadata": {},
     "output_type": "execute_result"
    }
   ],
   "source": [
    "m[13:15, 1:3]"
   ]
  },
  {
   "cell_type": "markdown",
   "metadata": {
    "slideshow": {
     "slide_type": "slide"
    }
   },
   "source": [
    "One of the key features of NumPy is that most operations on arrays are *elementwise*, meaning they are applied to each element of the array."
   ]
  },
  {
   "cell_type": "code",
   "execution_count": 63,
   "metadata": {},
   "outputs": [
    {
     "name": "stdout",
     "output_type": "stream",
     "text": [
      "[ 1  2  3  4  5  6  7  8  9 10 11 12 13 14 15 16 17 18 19]\n"
     ]
    }
   ],
   "source": [
    "numbers = np.arange(1, 20)\n",
    "print(numbers)"
   ]
  },
  {
   "cell_type": "code",
   "execution_count": 64,
   "metadata": {},
   "outputs": [
    {
     "name": "stdout",
     "output_type": "stream",
     "text": [
      "[101 102 103 104 105 106 107 108 109 110 111 112 113 114 115 116 117 118\n",
      " 119]\n",
      "[ 3  6  9 12 15 18 21 24 27 30 33 36 39 42 45 48 51 54 57]\n",
      "[0.5        0.33333333 0.25       0.2        0.16666667 0.14285714\n",
      " 0.125      0.11111111 0.1        0.09090909 0.08333333 0.07692308\n",
      " 0.07142857 0.06666667 0.0625     0.05882353 0.05555556 0.05263158\n",
      " 0.05      ]\n",
      "[  1   4   9  16  25  36  49  64  81 100 121 144 169 196 225 256 289 324\n",
      " 361]\n"
     ]
    }
   ],
   "source": [
    "print(numbers + 100)\n",
    "print(numbers * 3)\n",
    "print(1 / (numbers + 1))\n",
    "print(numbers ** 2)"
   ]
  },
  {
   "cell_type": "markdown",
   "metadata": {},
   "source": [
    "These operators can also perform elementwise operations on two arrays."
   ]
  },
  {
   "cell_type": "code",
   "execution_count": 65,
   "metadata": {},
   "outputs": [
    {
     "name": "stdout",
     "output_type": "stream",
     "text": [
      "[101 102 103 104 105 106 107 108 109 110 111 112 113 114 115 116 117 118\n",
      " 119]\n",
      "[102 104 106 108 110 112 114 116 118 120 122 124 126 128 130 132 134 136\n",
      " 138]\n",
      "[ 101  204  309  416  525  636  749  864  981 1100 1221 1344 1469 1596\n",
      " 1725 1856 1989 2124 2261]\n",
      "[ True  True  True  True  True  True  True  True  True  True  True  True\n",
      "  True  True  True  True  True  True  True]\n"
     ]
    }
   ],
   "source": [
    "numbers2 = numbers + 100\n",
    "print(numbers2)\n",
    "\n",
    "print(numbers + numbers2)\n",
    "print(numbers * numbers2)\n",
    "print(numbers < numbers2)"
   ]
  },
  {
   "cell_type": "markdown",
   "metadata": {},
   "source": [
    "NumPy defines over 60 [**universal functions**](https://numpy.org/doc/stable/reference/ufuncs.html#available-ufuncs), which is its name for functions that operate elementwise on arrays."
   ]
  },
  {
   "cell_type": "code",
   "execution_count": 66,
   "metadata": {
    "scrolled": true
   },
   "outputs": [
    {
     "name": "stdout",
     "output_type": "stream",
     "text": [
      "[ 0.84147098  0.90929743  0.14112001 -0.7568025  -0.95892427 -0.2794155\n",
      "  0.6569866   0.98935825  0.41211849 -0.54402111 -0.99999021 -0.53657292\n",
      "  0.42016704  0.99060736  0.65028784 -0.28790332 -0.96139749 -0.75098725\n",
      "  0.14987721]\n",
      "[1.         1.41421356 1.73205081 2.         2.23606798 2.44948974\n",
      " 2.64575131 2.82842712 3.         3.16227766 3.31662479 3.46410162\n",
      " 3.60555128 3.74165739 3.87298335 4.         4.12310563 4.24264069\n",
      " 4.35889894]\n",
      "[ 0  0  1  0  0  4  2  4  1  0  1  4  9  2 10  4 15 10  5]\n"
     ]
    }
   ],
   "source": [
    "print(np.sin(numbers))\n",
    "print(np.sqrt(numbers))\n",
    "print(np.mod(numbers2, numbers))"
   ]
  },
  {
   "cell_type": "markdown",
   "metadata": {
    "scrolled": true
   },
   "source": [
    "## References\n",
    "\n",
    "- [The Python Tutorial](https://docs.python.org/3/tutorial/index.html)\n",
    "- [NumPy quickstart](https://numpy.org/doc/stable/user/quickstart.html)\n",
    "- [Python Data Science Handbook](https://jakevdp.github.io/PythonDataScienceHandbook/)"
   ]
  }
 ],
 "metadata": {
  "celltoolbar": "Slideshow",
  "kernelspec": {
   "display_name": "Python 3",
   "language": "python",
   "name": "python3"
  },
  "language_info": {
   "codemirror_mode": {
    "name": "ipython",
    "version": 3
   },
   "file_extension": ".py",
   "mimetype": "text/x-python",
   "name": "python",
   "nbconvert_exporter": "python",
   "pygments_lexer": "ipython3",
   "version": "3.8.10"
  }
 },
 "nbformat": 4,
 "nbformat_minor": 2
}