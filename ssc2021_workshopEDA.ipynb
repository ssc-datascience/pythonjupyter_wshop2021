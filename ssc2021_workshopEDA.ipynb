{
 "cells": [
  {
   "cell_type": "markdown",
   "metadata": {
    "slideshow": {
     "slide_type": "slide"
    }
   },
   "source": [
    "# SSC Data Science and Analytics Workshop 2021\n",
    "\n",
    "## The Data Scientist’s Workflow: EDA and Statistical Modeling with Python in Jupyter Notebooks\n",
    "\n",
    "# Topics\n",
    "\n",
    "- Data wrangling: \n",
    "   - selecting variables\n",
    "   - filtering rows\n",
    "   - creating new variables\n",
    "   - grouping\n",
    "   - combining multiple data frames\n",
    "\n",
    "- Summarizing Data \n",
    "- Visualizing Data\n"
   ]
  },
  {
   "cell_type": "markdown",
   "metadata": {
    "slideshow": {
     "slide_type": "slide"
    }
   },
   "source": [
    "# Data Wrangling\n",
    "\n",
    "- Data wrangling/manipulation/transformation has a large impact on the data used to answer questions with data.\n",
    "\n",
    "- Statistical and machine learning models are meaningful only if the data is meaningful.\n",
    "\n",
    "- Data wrangling/manipulation is one point in the data analysis process where decisions can introduce bias into the data.  Examples?"
   ]
  },
  {
   "cell_type": "markdown",
   "metadata": {
    "slideshow": {
     "slide_type": "slide"
    }
   },
   "source": [
    "<a href='https://www.nytimes.com/interactive/2019/01/11/us/politics/trump-border-crisis-reality.html'> <img src='trumpnyt.png'> </img> </a>"
   ]
  },
  {
   "cell_type": "markdown",
   "metadata": {
    "slideshow": {
     "slide_type": "slide"
    }
   },
   "source": [
    "# pandas"
   ]
  },
  {
   "cell_type": "markdown",
   "metadata": {
    "slideshow": {
     "slide_type": "slide"
    }
   },
   "source": [
    "# Series\n",
    "\n",
    "A Series is a one-dimensional array-like object containing a sequence of values (of similar types to NumPy types) and an associated array of data labels, called its index. The simplest Series is formed from only an array of data"
   ]
  },
  {
   "cell_type": "code",
   "execution_count": null,
   "metadata": {
    "slideshow": {
     "slide_type": "-"
    }
   },
   "outputs": [],
   "source": [
    "import pandas as pd\n",
    "\n",
    "myseries = pd.Series([0.9, 0.7, -10, 20])\n",
    "print(myseries)\n",
    "prov = ['Manitoba', 'Ontario', 'Quebec', 'Alberta']\n",
    "myseries.index = prov\n",
    "myseries"
   ]
  },
  {
   "cell_type": "markdown",
   "metadata": {
    "slideshow": {
     "slide_type": "slide"
    }
   },
   "source": [
    "# pandas DataFrame\n",
    "\n",
    "- A DataFrame represents a rectangular table of data and contains an ordered collection of columns, each of which can be a different value type (numeric, string, boolean, etc.). \n",
    "\n",
    "- The DataFrame has both a row and column index; it can be thought of as a dict of Series all sharing the same index.\n",
    "\n",
    "- Under the hood, the data is stored as one or more two-dimensional blocks rather than a list, dict, or some other collection of one-dimensional arrays. \n",
    "\n",
    "(McKinney, 2018 and [pandas ref](https://pandas.pydata.org))"
   ]
  },
  {
   "cell_type": "code",
   "execution_count": null,
   "metadata": {
    "slideshow": {
     "slide_type": "subslide"
    }
   },
   "outputs": [],
   "source": [
    "# a dict of equal length lists\n",
    "pop = {'province':['Ontario', 'Ontario', 'Quebec', 'Quebec'], \n",
    "        'year': [2016, 2011,2016, 2011],\n",
    "        'pop_size': [13448494, 12851821, 8164361, 7903001]}\n",
    "df = pd.DataFrame(pop)\n",
    "df"
   ]
  },
  {
   "cell_type": "markdown",
   "metadata": {
    "slideshow": {
     "slide_type": "subslide"
    }
   },
   "source": [
    "- pandas can read and write data in many types of formats (text, binary, SQL) that are stored as csv, json, html, etc.  (see [IO tools](http://pandas.pydata.org/pandas-docs/stable/io.html) )\n",
    "\n",
    "- For example, `read_html` accepts an HTML string/file/URL and will parse an HTML tables into a list of pandas DataFrames."
   ]
  },
  {
   "cell_type": "markdown",
   "metadata": {},
   "source": [
    "# Population of Countries\n",
    "\n",
    "![text](wikipedia_poppage.png)"
   ]
  },
  {
   "cell_type": "code",
   "execution_count": null,
   "metadata": {
    "slideshow": {
     "slide_type": "subslide"
    }
   },
   "outputs": [],
   "source": [
    "url = 'https://en.wikipedia.org/wiki/List_of_countries_by_population_(United_Nations)'\n",
    "df = pd.read_html(url, header=0)\n",
    "type(df)"
   ]
  },
  {
   "cell_type": "markdown",
   "metadata": {},
   "source": [
    "In this case `pd.read_html()` returns a list of data frames.  By inspection, the first element of the list contains the Wikipedia table we want."
   ]
  },
  {
   "cell_type": "code",
   "execution_count": null,
   "metadata": {},
   "outputs": [],
   "source": [
    "pop = df[0] # select table of countries\n",
    "\n",
    "pop.head()"
   ]
  },
  {
   "cell_type": "markdown",
   "metadata": {},
   "source": [
    "The data is sorted by world population so we can use index to create a rank variable."
   ]
  },
  {
   "cell_type": "code",
   "execution_count": null,
   "metadata": {},
   "outputs": [],
   "source": [
    "pop.reset_index(inplace = True)\n",
    "pop = pop.rename(columns = {'index': 'rank'})\n",
    "pop.head()"
   ]
  },
  {
   "cell_type": "markdown",
   "metadata": {},
   "source": [
    "Dataframe properties"
   ]
  },
  {
   "cell_type": "code",
   "execution_count": null,
   "metadata": {},
   "outputs": [],
   "source": [
    "print('Shape of the data frame is:', pop.shape) \n",
    "print('\\n')\n",
    "print('Column names:',list(pop))"
   ]
  },
  {
   "cell_type": "markdown",
   "metadata": {},
   "source": [
    "But, indexing starts from 0 so we should add 1 to `rank`."
   ]
  },
  {
   "cell_type": "code",
   "execution_count": null,
   "metadata": {},
   "outputs": [],
   "source": [
    "pop['rank'] = pop['rank'].apply(lambda x: x + 1)\n",
    "pop.head()"
   ]
  },
  {
   "cell_type": "markdown",
   "metadata": {
    "slideshow": {
     "slide_type": "slide"
    }
   },
   "source": [
    "# Filtering rows (observations)\n",
    "\n",
    "- Exclude the row with the largest population.\n",
    "\n",
    "- `pop[233:]` excludes all rows before index 233 (or row 234).\n",
    "\n",
    "- This uses \"slice\" syntax.\n"
   ]
  },
  {
   "cell_type": "code",
   "execution_count": null,
   "metadata": {
    "slideshow": {
     "slide_type": "-"
    }
   },
   "outputs": [],
   "source": [
    "pop[233:].head()"
   ]
  },
  {
   "cell_type": "markdown",
   "metadata": {},
   "source": [
    "Let's remove this row since it's not a country. Use `DataFrame.drop` and modify the data frame with `inplace = True`."
   ]
  },
  {
   "cell_type": "code",
   "execution_count": null,
   "metadata": {},
   "outputs": [],
   "source": [
    "pop.drop(233, inplace = True)"
   ]
  },
  {
   "cell_type": "code",
   "execution_count": null,
   "metadata": {},
   "outputs": [],
   "source": [
    "print(pop.shape), \n",
    "pop[232:]"
   ]
  },
  {
   "cell_type": "markdown",
   "metadata": {
    "slideshow": {
     "slide_type": "slide"
    }
   },
   "source": [
    "Select countries that have populations that rank between 30th and 35th."
   ]
  },
  {
   "cell_type": "code",
   "execution_count": null,
   "metadata": {},
   "outputs": [],
   "source": [
    "pop[1:][28:34]"
   ]
  },
  {
   "cell_type": "markdown",
   "metadata": {
    "slideshow": {
     "slide_type": "slide"
    }
   },
   "source": [
    "Use `.loc` to select by row index and column name.  What is the change in population for the country of rank 30?"
   ]
  },
  {
   "cell_type": "code",
   "execution_count": null,
   "metadata": {
    "slideshow": {
     "slide_type": "-"
    }
   },
   "outputs": [],
   "source": [
    "pop.loc[29,'Change']"
   ]
  },
  {
   "cell_type": "markdown",
   "metadata": {
    "slideshow": {
     "slide_type": "slide"
    }
   },
   "source": [
    "Modify values in place using `.loc`."
   ]
  },
  {
   "cell_type": "code",
   "execution_count": null,
   "metadata": {},
   "outputs": [],
   "source": [
    "pop.loc[29,'Change'] = 0.09\n",
    "print(pop.loc[29,'Change']),\n",
    "type(pop.loc[29,'Change'])"
   ]
  },
  {
   "cell_type": "markdown",
   "metadata": {
    "slideshow": {
     "slide_type": "slide"
    }
   },
   "source": [
    "We can also select rows using integers with `iloc`.  The 7th column has index value 6."
   ]
  },
  {
   "cell_type": "code",
   "execution_count": null,
   "metadata": {},
   "outputs": [],
   "source": [
    "pop.iloc[29,6]"
   ]
  },
  {
   "cell_type": "markdown",
   "metadata": {
    "slideshow": {
     "slide_type": "slide"
    }
   },
   "source": [
    "# Selecting variables (columns)\n",
    "\n",
    "\n",
    "- `pop['rank']` returns a pandas series (i.e., data frame with one column).\n"
   ]
  },
  {
   "cell_type": "code",
   "execution_count": null,
   "metadata": {},
   "outputs": [],
   "source": [
    "pop['rank'].head()"
   ]
  },
  {
   "cell_type": "markdown",
   "metadata": {
    "slideshow": {
     "slide_type": "slide"
    }
   },
   "source": [
    "**Question:** Which Asian countries are in the top 10 by rank?  What is the distribution of population change in these countries?"
   ]
  },
  {
   "cell_type": "code",
   "execution_count": null,
   "metadata": {},
   "outputs": [],
   "source": [
    "print(pop.columns) \n",
    "pop[pop.columns[2]].head()"
   ]
  },
  {
   "cell_type": "markdown",
   "metadata": {},
   "source": [
    "`loc` is primarily label based and `iloc` is integer based\n",
    "\n",
    "- use `loc` to select rows 0 to 2 and columns `UN continentalregion[4]` to `Change`.\n",
    "- use `iloc` to do the same : integer based selection\n",
    "- general selection."
   ]
  },
  {
   "cell_type": "code",
   "execution_count": null,
   "metadata": {},
   "outputs": [],
   "source": [
    "t1 = pop.loc[0:2,'Country/Territory':'UN continentalregion[4]']\n",
    "t2 = pop.iloc[0:3, 0:3]\n",
    "t3 = pop[['Country/Territory','UN continentalregion[4]']][0:3]\n",
    "display(t1, t2, t3)\n"
   ]
  },
  {
   "cell_type": "markdown",
   "metadata": {},
   "source": [
    "We can also use boolean logic to select rows."
   ]
  },
  {
   "cell_type": "code",
   "execution_count": null,
   "metadata": {},
   "outputs": [],
   "source": [
    "pop[pop.columns[2] == 'Asia' & pop['rank'] <= 10]"
   ]
  },
  {
   "cell_type": "code",
   "execution_count": null,
   "metadata": {},
   "outputs": [],
   "source": [
    "pop.dtypes"
   ]
  },
  {
   "cell_type": "markdown",
   "metadata": {},
   "source": [
    "object dtype, can hold any Python object, including strings (see [pandas ref](https://pandas.pydata.org/pandas-docs/stable/user_guide/basics.html#defaults)). But, we can to convert variable to a string type using `astype`."
   ]
  },
  {
   "cell_type": "code",
   "execution_count": null,
   "metadata": {
    "slideshow": {
     "slide_type": "-"
    }
   },
   "outputs": [],
   "source": [
    "pop[pop.columns[2]].astype('string').head()"
   ]
  },
  {
   "cell_type": "code",
   "execution_count": null,
   "metadata": {},
   "outputs": [],
   "source": [
    "pop[(pop[pop.columns[2]].astype('string') == 'Asia') & (pop['rank'] <= 10)]"
   ]
  },
  {
   "cell_type": "markdown",
   "metadata": {},
   "source": [
    "`Change` is type object so we will need to: \n",
    "- convert to a string, \n",
    "- extract the digits, \n",
    "- convert digits to type numeric, then  \n",
    "- compute distribution.\n",
    "\n"
   ]
  },
  {
   "cell_type": "code",
   "execution_count": null,
   "metadata": {},
   "outputs": [],
   "source": [
    "(pop[(pop[pop.columns[2]] == 'Asia') & (pop['rank'] <= 10)]['Change'].\n",
    "astype('string'). # convert to string\n",
    "str.extract(r'(\\d\\.\\d+|-\\d\\.\\d+)'). # extract decimal digits\n",
    "astype('float'). # convert to numeric\n",
    "describe())"
   ]
  },
  {
   "cell_type": "markdown",
   "metadata": {},
   "source": [
    "- This is an example where we call methods on an object one after another - sometimes called [method chaining](https://tomaugspurger.github.io/method-chaining).  \n",
    "\n",
    "- Similar in style to `%>%` in R `tidyverse`."
   ]
  },
  {
   "cell_type": "markdown",
   "metadata": {
    "slideshow": {
     "slide_type": "slide"
    }
   },
   "source": [
    "# Creating New Variables\n",
    "\n",
    "Suppose we want to add a new variable to the data frame to indicate if a countries' change in population has magnitude greater than 3% (i.e., change $\\geq$ 3% or change $\\leq$ -3%).\n"
   ]
  },
  {
   "cell_type": "code",
   "execution_count": null,
   "metadata": {},
   "outputs": [],
   "source": [
    "pop['Change'].head(12)"
   ]
  },
  {
   "cell_type": "code",
   "execution_count": null,
   "metadata": {},
   "outputs": [],
   "source": [
    "pop['Change'].astype('string').str.extract(r'(-\\d+\\.\\d+|\\d+\\.\\d+)').head(12)"
   ]
  },
  {
   "cell_type": "markdown",
   "metadata": {},
   "source": [
    "Why didn't the regex work for the minus sign?\n",
    "Look at unicode character for index 10."
   ]
  },
  {
   "cell_type": "code",
   "execution_count": null,
   "metadata": {},
   "outputs": [],
   "source": [
    "print(ord(pop['Change'].astype('string')[10][0]))\n",
    "ord('-') # minus sign"
   ]
  },
  {
   "cell_type": "markdown",
   "metadata": {},
   "source": [
    "- Minus sign has integer 45.\n",
    "- So, need to replace unicode 8722 with unicode 45."
   ]
  },
  {
   "cell_type": "code",
   "execution_count": null,
   "metadata": {},
   "outputs": [],
   "source": [
    "ch1 = ord(pop['Change'].astype('string')[10][0])\n",
    "\n",
    "pop['Change'] = (pop['Change'].astype('string').\n",
    "                 str.replace(chr(ch1),'-').\n",
    "                 str.extract(r'(-\\d+\\.\\d+|\\d+\\.\\d+)')[0].\n",
    "                 astype(float))\n",
    "\n",
    "pop['Change']\n"
   ]
  },
  {
   "cell_type": "markdown",
   "metadata": {},
   "source": [
    "One way to do it is to use `apply` with a `lambda` function."
   ]
  },
  {
   "cell_type": "code",
   "execution_count": null,
   "metadata": {},
   "outputs": [],
   "source": [
    "pop['Change3'] = pop['Change'].apply(lambda x: 1 if (x >= -3.0 and x <= 3.0) else 0)\n",
    "\n",
    "pop['Change3']"
   ]
  },
  {
   "cell_type": "code",
   "execution_count": null,
   "metadata": {},
   "outputs": [],
   "source": [
    "pop.groupby(['Change3']).count()"
   ]
  },
  {
   "cell_type": "markdown",
   "metadata": {},
   "source": [
    "# Statistics Canada Daily Indicators\n",
    "\n",
    "## How is Canada's Economy today?"
   ]
  },
  {
   "cell_type": "markdown",
   "metadata": {},
   "source": [
    "![text](statcan1.png)"
   ]
  },
  {
   "cell_type": "code",
   "execution_count": null,
   "metadata": {},
   "outputs": [],
   "source": [
    "dailydat = 'https://www150.statcan.gc.ca/n1/dai-quo/ssi/homepage/ind-econ.json'\n",
    "\n",
    "df = pd.read_json(dailydat)\n",
    "df.head()"
   ]
  },
  {
   "cell_type": "code",
   "execution_count": null,
   "metadata": {},
   "outputs": [],
   "source": [
    "type(df['results']['indicators'])"
   ]
  },
  {
   "cell_type": "code",
   "execution_count": null,
   "metadata": {},
   "outputs": [],
   "source": [
    "df['results']['indicators'][0]"
   ]
  },
  {
   "cell_type": "markdown",
   "metadata": {},
   "source": [
    "Two ways to flatten the json file.\n",
    "\n",
    "1. use pandas `json_normalize`\n",
    "\n",
    "2. iterate through list"
   ]
  },
  {
   "cell_type": "code",
   "execution_count": null,
   "metadata": {},
   "outputs": [],
   "source": [
    "indicators = pd.json_normalize(df['results']['indicators'])"
   ]
  },
  {
   "cell_type": "code",
   "execution_count": null,
   "metadata": {},
   "outputs": [],
   "source": [
    "indicators.head()"
   ]
  },
  {
   "cell_type": "markdown",
   "metadata": {},
   "source": [
    "Create a list of indicators in the daily that have at `geo_code` $\\ge 1$."
   ]
  },
  {
   "cell_type": "code",
   "execution_count": null,
   "metadata": {},
   "outputs": [],
   "source": [
    "l = list(indicators.groupby(by=['title.en', 'geo_code']).groups)\n",
    "\n",
    "titles_weekly = [title for title, geo in l if geo >= 1]\n",
    "\n",
    "#titles_weekly\n",
    "res = []\n",
    "[res.append(t) for t in titles_weekly if t not in res]\n",
    "\n",
    "res"
   ]
  },
  {
   "cell_type": "markdown",
   "metadata": {},
   "source": [
    "We want to plot the indicator on a map of Canada s let's create a Chloropleth map.  For this type of map we will need a file with geometry of Canadian provinces and Territories as polygons (i.e., a geojson file).\n",
    "\n",
    "Todo: grab screenshot from https://github.com/codeforamerica/click_that_hood/blob/master/public/data/canada.geojson"
   ]
  },
  {
   "cell_type": "markdown",
   "metadata": {},
   "source": [
    "use names from geojson to create dictionary with `geo_code` from `weeklyearnings` (i.e., used in stats can data)."
   ]
  },
  {
   "cell_type": "markdown",
   "metadata": {},
   "source": [
    "merge `weekly_earnings` with `canada_geo`."
   ]
  },
  {
   "cell_type": "code",
   "execution_count": null,
   "metadata": {},
   "outputs": [],
   "source": [
    "import geopandas\n",
    "\n",
    "geourl = 'https://raw.githubusercontent.com/codeforamerica/click_that_hood/master/public/data/canada.geojson'\n",
    "\n",
    "geocanada = geopandas.read_file(geourl)\n",
    "\n",
    "geocanada.head()"
   ]
  },
  {
   "cell_type": "code",
   "execution_count": null,
   "metadata": {},
   "outputs": [],
   "source": [
    "geo_dict = {'Canada' : [0], \n",
    "            geocanada['name'][1] : [1],\n",
    "            geocanada['name'][9]: [2],\n",
    "            geocanada['name'][6] : [3],\n",
    "            geocanada['name'][5] : [4],\n",
    "            geocanada['name'][0] : [5],\n",
    "            geocanada['name'][12] : [6],\n",
    "            geocanada['name'][11] : [7],\n",
    "            geocanada['name'][7] : [8],\n",
    "            geocanada['name'][8] : [9],\n",
    "            geocanada['name'][2] : [10],\n",
    "            geocanada['name'][10] : [11],\n",
    "            geocanada['name'][4] : [12],\n",
    "            geocanada['name'][3] : [13]}\n",
    "\n",
    "# index is set as \n",
    "canada_geo = pd.DataFrame.from_dict(geo_dict, orient = 'index', columns = ['geo_code'])\n",
    "\n",
    "canada_geo.reset_index(inplace=True)\n",
    "canada_geo = canada_geo.rename(columns = {'index':'region'})\n",
    "canada_geo"
   ]
  },
  {
   "cell_type": "code",
   "execution_count": null,
   "metadata": {},
   "outputs": [],
   "source": [
    "res"
   ]
  },
  {
   "cell_type": "markdown",
   "metadata": {},
   "source": [
    "# Data Visualization\n",
    "\n",
    "What are the relationships between growth of economic indicators?\n",
    "\n",
    "Consider the relationship between growth rate of `Building permits` and `Average weekly earnings`."
   ]
  },
  {
   "cell_type": "code",
   "execution_count": null,
   "metadata": {},
   "outputs": [],
   "source": [
    "# growth rate for building permits\n",
    "indicators[indicators['title.en'] == res[1]][['geo_code','growth_rate.growth.en']].head()"
   ]
  },
  {
   "cell_type": "code",
   "execution_count": null,
   "metadata": {},
   "outputs": [],
   "source": [
    "indicators['growth_rate.growth.en'].dtypes"
   ]
  },
  {
   "cell_type": "markdown",
   "metadata": {},
   "source": [
    "In order to plot `growth_rate.growth.en` need to convert to numeric type. One way to do this is:\n",
    "\n",
    "1. convert to a string `astype('string')`\n",
    "2. replace `%` with '' `str.replace('%','')`\n",
    "3. convert to numeric `pd.to_numeric()`"
   ]
  },
  {
   "cell_type": "code",
   "execution_count": null,
   "metadata": {},
   "outputs": [],
   "source": [
    "v1 = indicators[indicators['title.en'] == res[1]][['geo_code','growth_rate.growth.en']]\n",
    "v1['growth_rate.growth.en'] = pd.to_numeric(v1['growth_rate.growth.en'].astype('string').str.replace('%',''))\n",
    "\n",
    "v2 = indicators[indicators['title.en'] == res[0]][['geo_code','growth_rate.growth.en']]\n",
    "v2['growth_rate.growth.en'] = pd.to_numeric(v2['growth_rate.growth.en'].astype('string').str.replace('%',''))"
   ]
  },
  {
   "cell_type": "markdown",
   "metadata": {},
   "source": [
    "- Merge `v1` and `v2` by `geo_code` then\n",
    "- Merge the result with `canada_geo` data frame so that we can label points by province names."
   ]
  },
  {
   "cell_type": "code",
   "execution_count": null,
   "metadata": {},
   "outputs": [],
   "source": [
    "df = v1.merge(v2, on = 'geo_code', suffixes = (res[0],res[1])).merge(canada_geo, on = 'geo_code')"
   ]
  },
  {
   "cell_type": "markdown",
   "metadata": {},
   "source": [
    "Plot the variables using pyplot API from matplotlib `matplotlib.pyplot`."
   ]
  },
  {
   "cell_type": "code",
   "execution_count": null,
   "metadata": {},
   "outputs": [],
   "source": [
    "import matplotlib.pyplot as plt\n",
    "\n",
    "x1 = df[list(df)[2]]\n",
    "y1 = df[list(df)[1]]\n",
    "\n",
    "# grab first four letters of provinces\n",
    "labs = df['region'].astype('string').str.slice(start=0,stop=4)\n",
    "\n",
    "\n",
    "plt.scatter(x = x1 , y = y1)\n",
    "plt.xlabel(list(df)[2])\n",
    "plt.ylabel(list(df)[1])\n",
    "\n",
    "# add annotation\n",
    "for i, txt in enumerate(labs):\n",
    "    plt.annotate(txt, (x1[i], y1[i]), ha = 'left')"
   ]
  },
  {
   "cell_type": "markdown",
   "metadata": {},
   "source": [
    "Same plot using matplotlib object-oriented API - this API allows finer control over plots."
   ]
  },
  {
   "cell_type": "code",
   "execution_count": null,
   "metadata": {},
   "outputs": [],
   "source": [
    "fig, ax = plt.subplots()\n",
    "ax.plot(x1, y1, 'ro') # red circles\n",
    "ax.set_xlabel(list(df)[2])\n",
    "ax.set_ylabel(list(df)[1])\n",
    "for i, txt in enumerate(labs):\n",
    "    ax.annotate(txt, (x1[i], y1[i]), ha = 'left')\n",
    "plt.show()"
   ]
  },
  {
   "cell_type": "markdown",
   "metadata": {},
   "source": [
    "We could also plot directly using pandas."
   ]
  },
  {
   "cell_type": "code",
   "execution_count": null,
   "metadata": {
    "tags": []
   },
   "outputs": [],
   "source": [
    "df.plot.scatter(x = list(df)[2],y = list(df)[1])"
   ]
  },
  {
   "cell_type": "markdown",
   "metadata": {},
   "source": [
    "Define a function to extract ..."
   ]
  },
  {
   "cell_type": "code",
   "execution_count": null,
   "metadata": {},
   "outputs": [],
   "source": [
    "def get_two_indicators(i1,i2):\n",
    "    v1 = indicators[indicators['title.en'] == i1][['geo_code','growth_rate.growth.en']]\n",
    "    v1['growth_rate.growth.en'] = pd.to_numeric(v1['growth_rate.growth.en'].astype('string').str.replace('%',''))\n",
    "    v2 = indicators[indicators['title.en'] == i2][['geo_code','growth_rate.growth.en']]\n",
    "    v2['growth_rate.growth.en'] = pd.to_numeric(v2['growth_rate.growth.en'].astype('string').str.replace('%',''))\n",
    "    return v1.merge(v2, on = 'geo_code', suffixes = (i2,i1)).merge(canada_geo, on = 'geo_code')\n",
    "    \n",
    "get_two_indicators(res[0],res[1])"
   ]
  },
  {
   "cell_type": "code",
   "execution_count": null,
   "metadata": {},
   "outputs": [],
   "source": [
    "ind_basket = ((get_two_indicators(res[0],res[1]).\n",
    "              merge(get_two_indicators(res[2],res[3]), on = 'geo_code')).\n",
    "              iloc[:,[1,2,4,5]])\n",
    "ind_basket.head()"
   ]
  },
  {
   "cell_type": "markdown",
   "metadata": {},
   "source": [
    "Clean up column names.  Let's just use the last word.  The regex `\\s(\\w+)$` will extract the last word of the column names."
   ]
  },
  {
   "cell_type": "code",
   "execution_count": null,
   "metadata": {},
   "outputs": [],
   "source": [
    "import re\n",
    "\n",
    "long_names = list(ind_basket)\n",
    "short_names = [re.search('\\s(\\w+)$',col_name).group() for col_name in long_names]\n",
    "short_names"
   ]
  },
  {
   "cell_type": "markdown",
   "metadata": {},
   "source": [
    "- Now rename columns in data frame with shorter versions.\n",
    "- Use `pandas.DataFrame.rename`.  \n",
    "- Need a dictionary of (key:value) pairs, where key = long_names and value = short_names\n",
    "- `zip` function is an iterator of tuples where first item in each iterator is paired with second item."
   ]
  },
  {
   "cell_type": "code",
   "execution_count": null,
   "metadata": {},
   "outputs": [],
   "source": [
    "short_names_dict = dict(zip(list(ind_basket),short_names))\n",
    "short_names_dict"
   ]
  },
  {
   "cell_type": "markdown",
   "metadata": {},
   "source": [
    "Now rename columns with `inplace=True`."
   ]
  },
  {
   "cell_type": "code",
   "execution_count": null,
   "metadata": {},
   "outputs": [],
   "source": [
    "ind_basket.rename(columns = short_names_dict, inplace=True)"
   ]
  },
  {
   "cell_type": "code",
   "execution_count": null,
   "metadata": {},
   "outputs": [],
   "source": [
    "pd.plotting.scatter_matrix(ind_basket)\n",
    "plt.show()"
   ]
  },
  {
   "cell_type": "markdown",
   "metadata": {},
   "source": [
    "# Interactive Plots Using jupyter-widgets"
   ]
  },
  {
   "cell_type": "markdown",
   "metadata": {},
   "source": [
    "Let's modify our function to return a scatter plot instead of a data frame. "
   ]
  },
  {
   "cell_type": "code",
   "execution_count": null,
   "metadata": {},
   "outputs": [],
   "source": [
    "def plot_two_indicators(i1,i2):\n",
    "    v1 = indicators[indicators['title.en'] == i1][['geo_code','growth_rate.growth.en']]\n",
    "    v1['growth_rate.growth.en'] = pd.to_numeric(v1['growth_rate.growth.en'].astype('string').str.replace('%',''))\n",
    "    v2 = indicators[indicators['title.en'] == i2][['geo_code','growth_rate.growth.en']]\n",
    "    v2['growth_rate.growth.en'] = pd.to_numeric(v2['growth_rate.growth.en'].astype('string').str.replace('%',''))\n",
    "    df = v1.merge(v2, on = 'geo_code', suffixes = (i2,i1)).merge(canada_geo, on = 'geo_code')\n",
    "    cols = list(df)\n",
    "    #df.plot.scatter(x = cols[1],y = cols[2])\n",
    "    x1 = df[cols[2]]\n",
    "    y1 = df[cols[1]]\n",
    "    labs = df['region'].astype('string').str.slice(start=0,stop=4)\n",
    "    fig1 = plt.subplots()\n",
    "    plt.scatter(x=x1, y = y1)\n",
    "    plt.xlabel(cols[2])\n",
    "    plt.ylabel(cols[1])\n",
    "    for i, txt in enumerate(labs):\n",
    "        plt.annotate(txt, (x1[i], y1[i]), ha = 'right')\n",
    "    plt.show(fig1)\n",
    "\n",
    "\n",
    "plot_two_indicators(res[4],res[5])"
   ]
  },
  {
   "cell_type": "code",
   "execution_count": null,
   "metadata": {},
   "outputs": [],
   "source": [
    "import ipywidgets as widgets\n",
    "from ipywidgets import interact\n",
    "\n",
    "display(widgets.HTML(value=\"<h1>Select the indicators to plot</h1>\"))\n",
    "\n",
    "interact(plot_two_indicators, \n",
    "         i1 = widgets.Dropdown(options = res, value = res[0], decription = \"Indicator 1\"),\n",
    "         i2 = widgets.Dropdown(options = res, value = res[1], decription = \"Indicator 2\"));"
   ]
  },
  {
   "cell_type": "markdown",
   "metadata": {
    "tags": []
   },
   "source": [
    "# Plot Weekly Earnings on a Map\n",
    "\n",
    "Let's pick 'Average weekly earnings' or `res[0]`.\n",
    "\n",
    "Create data frame:\n",
    "\n",
    "- group by indicator `DataFrame.groupby`\n",
    "- extract groups using `get_groups`"
   ]
  },
  {
   "cell_type": "code",
   "execution_count": null,
   "metadata": {},
   "outputs": [],
   "source": [
    "groups = indicators.groupby(by=['title.en'])\n",
    "weeklyearnings = groups.get_group(res[0])"
   ]
  },
  {
   "cell_type": "code",
   "execution_count": null,
   "metadata": {},
   "outputs": [],
   "source": [
    "prov_weeklyearnings = weeklyearnings.merge(canada_geo, how = 'left', on = 'geo_code')"
   ]
  },
  {
   "cell_type": "markdown",
   "metadata": {},
   "source": [
    "Replace `,` and `$` with `''` and convert to numeric"
   ]
  },
  {
   "cell_type": "code",
   "execution_count": null,
   "metadata": {},
   "outputs": [],
   "source": [
    "prov_weeklyearnings['value.en'] = (pd.to_numeric(prov_weeklyearnings['value.en'].\n",
    "                                                 astype('string').\n",
    "                                                 str.replace(r'(,|\\$)','')))"
   ]
  },
  {
   "cell_type": "code",
   "execution_count": null,
   "metadata": {},
   "outputs": [],
   "source": [
    "prov_earnings = prov_weeklyearnings[['value.en','region']]\n",
    "prov_earnings.drop(12, axis = 0, inplace=True)"
   ]
  },
  {
   "cell_type": "markdown",
   "metadata": {},
   "source": [
    "Create a map centred on North America using `folium` library."
   ]
  },
  {
   "cell_type": "code",
   "execution_count": null,
   "metadata": {},
   "outputs": [],
   "source": [
    "import folium\n",
    "m = folium.Map(location=[48, -102], zoom_start=3)\n",
    "m"
   ]
  },
  {
   "cell_type": "markdown",
   "metadata": {},
   "source": [
    "Now create Choropleth layer"
   ]
  },
  {
   "cell_type": "code",
   "execution_count": null,
   "metadata": {},
   "outputs": [],
   "source": [
    "folium.Choropleth(\n",
    "    geo_data=geourl, #geourl\n",
    "    name=\"choropleth\",\n",
    "    data = prov_earnings,\n",
    "    columns = ['region','value.en'],\n",
    "    key_on = \"feature.properties.name\",\n",
    "    fill_color=\"YlGn\",\n",
    "    fill_opacity=0.7,\n",
    "    line_opacity=0.2,\n",
    "    legend_name=\"Weekly Earnings\").add_to(m)\n",
    "\n",
    "folium.LayerControl().add_to(m)\n",
    "\n",
    "m"
   ]
  },
  {
   "cell_type": "code",
   "execution_count": null,
   "metadata": {},
   "outputs": [],
   "source": []
  }
 ],
 "metadata": {
  "celltoolbar": "Slideshow",
  "kernelspec": {
   "display_name": "Python 3",
   "language": "python",
   "name": "python3"
  },
  "language_info": {
   "codemirror_mode": {
    "name": "ipython",
    "version": 3
   },
   "file_extension": ".py",
   "mimetype": "text/x-python",
   "name": "python",
   "nbconvert_exporter": "python",
   "pygments_lexer": "ipython3",
   "version": "3.8.8"
  }
 },
 "nbformat": 4,
 "nbformat_minor": 4
}
